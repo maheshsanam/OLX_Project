{
 "cells": [
  {
   "cell_type": "code",
   "execution_count": 1,
   "metadata": {},
   "outputs": [],
   "source": [
    "import pickle\n",
    "with open ('model.pickle','rb') as model:\n",
    "    mlmodel = pickle.load(model)"
   ]
  },
  {
   "cell_type": "code",
   "execution_count": 2,
   "metadata": {},
   "outputs": [
    {
     "name": "stderr",
     "output_type": "stream",
     "text": [
      "c:\\Users\\MAHESH\\AppData\\Local\\Programs\\Python\\Python312\\Lib\\site-packages\\sklearn\\base.py:493: UserWarning: X does not have valid feature names, but LinearRegression was fitted with feature names\n",
      "  warnings.warn(\n"
     ]
    },
    {
     "data": {
      "text/plain": [
       "array([3342070.46511105])"
      ]
     },
     "execution_count": 2,
     "metadata": {},
     "output_type": "execute_result"
    }
   ],
   "source": [
    "mlmodel.predict([[2021, 54000,  10, 44, 3,  57, 1,  0,  0]])"
   ]
  },
  {
   "cell_type": "code",
   "execution_count": 5,
   "metadata": {},
   "outputs": [
    {
     "ename": "OperationalError",
     "evalue": "table CONTACT already exists",
     "output_type": "error",
     "traceback": [
      "\u001b[1;31m---------------------------------------------------------------------------\u001b[0m",
      "\u001b[1;31mOperationalError\u001b[0m                          Traceback (most recent call last)",
      "Cell \u001b[1;32mIn[5], line 7\u001b[0m\n\u001b[0;32m      5\u001b[0m conn \u001b[38;5;241m=\u001b[39m sqlite3\u001b[38;5;241m.\u001b[39mconnect(\u001b[38;5;124m'\u001b[39m\u001b[38;5;124mcontactus.db\u001b[39m\u001b[38;5;124m'\u001b[39m)\n\u001b[0;32m      6\u001b[0m cur \u001b[38;5;241m=\u001b[39m conn\u001b[38;5;241m.\u001b[39mcursor()\n\u001b[1;32m----> 7\u001b[0m \u001b[43mcur\u001b[49m\u001b[38;5;241;43m.\u001b[39;49m\u001b[43mexecute\u001b[49m\u001b[43m(\u001b[49m\u001b[38;5;124;43m'''\u001b[39;49m\n\u001b[0;32m      8\u001b[0m \u001b[38;5;124;43mCREATE TABLE CONTACT(\u001b[39;49m\n\u001b[0;32m      9\u001b[0m \u001b[38;5;124;43m            NAME VARCHAR(40),\u001b[39;49m\n\u001b[0;32m     10\u001b[0m \u001b[38;5;124;43m            EMAIL VARCHAR(50),\u001b[39;49m\n\u001b[0;32m     11\u001b[0m \u001b[38;5;124;43m            COUNTRY VARCHAR(50),\u001b[39;49m\n\u001b[0;32m     12\u001b[0m \u001b[38;5;124;43m            STATE VARCHAR(50),\u001b[39;49m\n\u001b[0;32m     13\u001b[0m \u001b[38;5;124;43m            MESSAGE TEXT\u001b[39;49m\n\u001b[0;32m     14\u001b[0m \u001b[38;5;124;43m)\u001b[39;49m\n\u001b[0;32m     15\u001b[0m \u001b[38;5;124;43m'''\u001b[39;49m\u001b[43m)\u001b[49m\n\u001b[0;32m     16\u001b[0m conn\u001b[38;5;241m.\u001b[39mcommit()\n",
      "\u001b[1;31mOperationalError\u001b[0m: table CONTACT already exists"
     ]
    }
   ],
   "source": [
    "import sqlite3\n",
    "\n",
    "\n",
    "\n",
    "conn = sqlite3.connect('contactus.db')\n",
    "cur = conn.cursor()\n",
    "cur.execute('''\n",
    "CREATE TABLE CONTACT(\n",
    "            NAME VARCHAR(40),\n",
    "            EMAIL VARCHAR(50),\n",
    "            COUNTRY VARCHAR(50),\n",
    "            STATE VARCHAR(50),\n",
    "            MESSAGE TEXT\n",
    ");\n",
    "''')\n",
    "conn.commit()"
   ]
  },
  {
   "cell_type": "code",
   "execution_count": null,
   "metadata": {},
   "outputs": [],
   "source": []
  }
 ],
 "metadata": {
  "kernelspec": {
   "display_name": "Python 3",
   "language": "python",
   "name": "python3"
  },
  "language_info": {
   "codemirror_mode": {
    "name": "ipython",
    "version": 3
   },
   "file_extension": ".py",
   "mimetype": "text/x-python",
   "name": "python",
   "nbconvert_exporter": "python",
   "pygments_lexer": "ipython3",
   "version": "3.12.4"
  }
 },
 "nbformat": 4,
 "nbformat_minor": 2
}
